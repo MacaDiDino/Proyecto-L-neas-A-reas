{
 "cells": [
  {
   "cell_type": "code",
   "execution_count": 1,
   "metadata": {},
   "outputs": [],
   "source": [
    "import sqlite3\n",
    "import pandas as pd"
   ]
  },
  {
   "cell_type": "code",
   "execution_count": 2,
   "metadata": {},
   "outputs": [],
   "source": [
    "# Ruta al archivo .sqlite\n",
    "ruta_db = 'travel.sqlite'"
   ]
  },
  {
   "cell_type": "code",
   "execution_count": 3,
   "metadata": {},
   "outputs": [],
   "source": [
    "# Conectar a la base de datos\n",
    "conexion = sqlite3.connect(ruta_db)"
   ]
  },
  {
   "cell_type": "code",
   "execution_count": 4,
   "metadata": {},
   "outputs": [],
   "source": [
    "# Obtener los nombres de las tablas en la base de datos\n",
    "cursor = conexion.cursor()\n",
    "cursor.execute(\"SELECT name FROM sqlite_master WHERE type='table';\")\n",
    "tablas = cursor.fetchall()"
   ]
  },
  {
   "cell_type": "code",
   "execution_count": 5,
   "metadata": {},
   "outputs": [],
   "source": [
    "# Convertir la lista de tablas en un formato legible\n",
    "nombres_tablas = [tabla[0] for tabla in tablas]"
   ]
  },
  {
   "cell_type": "code",
   "execution_count": 7,
   "metadata": {},
   "outputs": [
    {
     "name": "stdout",
     "output_type": "stream",
     "text": [
      "['aircrafts_data', 'airports_data', 'boarding_passes', 'bookings', 'flights', 'seats', 'ticket_flights', 'tickets']\n"
     ]
    }
   ],
   "source": [
    "print(nombres_tablas)"
   ]
  },
  {
   "cell_type": "code",
   "execution_count": 21,
   "metadata": {},
   "outputs": [],
   "source": [
    "aircrafts_data = pd.read_sql_query(f\"SELECT * FROM aircrafts_data\", conexion)\n",
    "airports_data = pd.read_sql_query(f\"SELECT * FROM airports_data\", conexion)\n",
    "boarding_passes = pd.read_sql_query(f\"SELECT * FROM boarding_passes\", conexion)\n",
    "bookings = pd.read_sql_query(f\"SELECT * FROM bookings\", conexion)\n",
    "flights = pd.read_sql_query(f\"SELECT * FROM flights\", conexion)\n",
    "seats = pd.read_sql_query(f\"SELECT * FROM seats\", conexion)\n",
    "ticket_flights = pd.read_sql_query(f\"SELECT * FROM ticket_flights\", conexion)\n",
    "tickets = pd.read_sql_query(f\"SELECT * FROM tickets\", conexion)"
   ]
  },
  {
   "cell_type": "code",
   "execution_count": 22,
   "metadata": {},
   "outputs": [],
   "source": [
    "aircrafts_data.to_csv(\"aircrafts_data.csv\", index=False)\n",
    "airports_data.to_csv(\"airports_data.csv\", index=False)\n",
    "boarding_passes.to_csv(\"boarding_passes.csv\", index=False)\n",
    "bookings.to_csv(\"bookings.csv\", index=False)\n",
    "flights.to_csv(\"flights.csv\", index=False)\n",
    "seats.to_csv(\"seats.csv\", index=False)\n",
    "ticket_flights.to_csv(\"ticket_flights.csv\", index=False)\n",
    "tickets.to_csv(\"tickets.csv\", index=False)"
   ]
  },
  {
   "cell_type": "code",
   "execution_count": null,
   "metadata": {},
   "outputs": [],
   "source": []
  }
 ],
 "metadata": {
  "kernelspec": {
   "display_name": "Python 3",
   "language": "python",
   "name": "python3"
  },
  "language_info": {
   "codemirror_mode": {
    "name": "ipython",
    "version": 3
   },
   "file_extension": ".py",
   "mimetype": "text/x-python",
   "name": "python",
   "nbconvert_exporter": "python",
   "pygments_lexer": "ipython3",
   "version": "3.10.4"
  }
 },
 "nbformat": 4,
 "nbformat_minor": 2
}
