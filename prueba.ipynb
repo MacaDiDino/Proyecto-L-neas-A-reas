{
 "cells": [
  {
   "cell_type": "code",
   "execution_count": 1,
   "metadata": {},
   "outputs": [],
   "source": [
    "import sqlite3\n",
    "import pandas as pd\n",
    "import os\n",
    "from tabulate import tabulate # para ver mejor las filas y columnas cuando hagamos el head de cada tabla.\n"
   ]
  },
  {
   "cell_type": "code",
   "execution_count": 3,
   "metadata": {},
   "outputs": [],
   "source": [
    "# Ruta al archivo .sqlite\n",
    "ruta_db = 'travel.sqlite'"
   ]
  },
  {
   "cell_type": "code",
   "execution_count": 4,
   "metadata": {},
   "outputs": [],
   "source": [
    "# Conectar a la base de datos\n",
    "conexion = sqlite3.connect(ruta_db)\n"
   ]
  },
  {
   "cell_type": "code",
   "execution_count": 5,
   "metadata": {},
   "outputs": [],
   "source": [
    "# Obtener los nombres de las tablas en la base de datos\n",
    "cursor = conexion.cursor()\n",
    "cursor.execute(\"SELECT name FROM sqlite_master WHERE type='table';\")\n",
    "tablas = cursor.fetchall()"
   ]
  },
  {
   "cell_type": "code",
   "execution_count": 6,
   "metadata": {},
   "outputs": [],
   "source": [
    "# Convertir la lista de tablas en un formato legible\n",
    "nombres_tablas = [tabla[0] for tabla in tablas]\n"
   ]
  },
  {
   "cell_type": "code",
   "execution_count": 7,
   "metadata": {},
   "outputs": [
    {
     "name": "stdout",
     "output_type": "stream",
     "text": [
      "['aircrafts_data', 'airports_data', 'boarding_passes', 'bookings', 'flights', 'seats', 'ticket_flights', 'tickets']\n"
     ]
    }
   ],
   "source": [
    "print(nombres_tablas)"
   ]
  },
  {
   "cell_type": "code",
   "execution_count": 8,
   "metadata": {},
   "outputs": [],
   "source": [
    "aircrafts_data = pd.read_sql_query(f\"SELECT * FROM aircrafts_data\", conexion)\n",
    "airports_data = pd.read_sql_query(f\"SELECT * FROM airports_data\", conexion)\n",
    "boarding_passes = pd.read_sql_query(f\"SELECT * FROM boarding_passes\", conexion)\n",
    "bookings = pd.read_sql_query(f\"SELECT * FROM bookings\", conexion)\n",
    "flights = pd.read_sql_query(f\"SELECT * FROM flights\", conexion)\n",
    "seats = pd.read_sql_query(f\"SELECT * FROM seats\", conexion)\n",
    "ticket_flights = pd.read_sql_query(f\"SELECT * FROM ticket_flights\", conexion)\n",
    "tickets = pd.read_sql_query(f\"SELECT * FROM tickets\", conexion)"
   ]
  },
  {
   "cell_type": "code",
   "execution_count": 9,
   "metadata": {},
   "outputs": [],
   "source": [
    "aircrafts_data.to_csv(\"aircrafts_data.csv\", index=False)\n",
    "airports_data.to_csv(\"airports_data.csv\", index=False)\n",
    "boarding_passes.to_csv(\"boarding_passes.csv\", index=False)\n",
    "bookings.to_csv(\"bookings.csv\", index=False)\n",
    "flights.to_csv(\"flights.csv\", index=False)\n",
    "seats.to_csv(\"seats.csv\", index=False)\n",
    "ticket_flights.to_csv(\"ticket_flights.csv\", index=False)\n",
    "tickets.to_csv(\"tickets.csv\", index=False)"
   ]
  },
  {
   "cell_type": "markdown",
   "metadata": {},
   "source": [
    "### Hasta aca tengo guardados los csv. A partir de aca, leer los archivos cvs ya que voy a borrar el .sqlite porque es muy pesado y no sube al github."
   ]
  },
  {
   "cell_type": "code",
   "execution_count": 2,
   "metadata": {},
   "outputs": [],
   "source": [
    "aircrafts_data = pd.read_csv(\"aircrafts_data.csv\")\n",
    "airports_data = pd.read_csv(\"airports_data.csv\")\n",
    "boarding_passes = pd.read_csv(\"boarding_passes.csv\")\n",
    "bookings = pd.read_csv(\"bookings.csv\")\n",
    "flights = pd.read_csv(\"flights.csv\")\n",
    "seats = pd.read_csv(\"seats.csv\")\n",
    "ticket_flights = pd.read_csv(\"ticket_flights.csv\")\n",
    "tickets = pd.read_csv(\"tickets.csv\")\n"
   ]
  },
  {
   "cell_type": "markdown",
   "metadata": {},
   "source": [
    "### Vamos a ir obteniendo información y un pantallazado de los datos que tenemos"
   ]
  },
  {
   "cell_type": "markdown",
   "metadata": {},
   "source": [
    "#### AIRCRAFTS"
   ]
  },
  {
   "cell_type": "code",
   "execution_count": 3,
   "metadata": {},
   "outputs": [
    {
     "name": "stdout",
     "output_type": "stream",
     "text": [
      "<class 'pandas.core.frame.DataFrame'>\n",
      "RangeIndex: 9 entries, 0 to 8\n",
      "Data columns (total 3 columns):\n",
      " #   Column         Non-Null Count  Dtype \n",
      "---  ------         --------------  ----- \n",
      " 0   aircraft_code  9 non-null      object\n",
      " 1   model          9 non-null      object\n",
      " 2   range          9 non-null      int64 \n",
      "dtypes: int64(1), object(2)\n",
      "memory usage: 344.0+ bytes\n"
     ]
    }
   ],
   "source": [
    "aircrafts_data.info()"
   ]
  },
  {
   "cell_type": "code",
   "execution_count": 4,
   "metadata": {},
   "outputs": [
    {
     "data": {
      "text/html": [
       "<div>\n",
       "<style scoped>\n",
       "    .dataframe tbody tr th:only-of-type {\n",
       "        vertical-align: middle;\n",
       "    }\n",
       "\n",
       "    .dataframe tbody tr th {\n",
       "        vertical-align: top;\n",
       "    }\n",
       "\n",
       "    .dataframe thead th {\n",
       "        text-align: right;\n",
       "    }\n",
       "</style>\n",
       "<table border=\"1\" class=\"dataframe\">\n",
       "  <thead>\n",
       "    <tr style=\"text-align: right;\">\n",
       "      <th></th>\n",
       "      <th>aircraft_code</th>\n",
       "      <th>model</th>\n",
       "      <th>range</th>\n",
       "    </tr>\n",
       "  </thead>\n",
       "  <tbody>\n",
       "    <tr>\n",
       "      <th>0</th>\n",
       "      <td>773</td>\n",
       "      <td>{\"en\": \"Boeing 777-300\", \"ru\": \"Боинг 777-300\"}</td>\n",
       "      <td>11100</td>\n",
       "    </tr>\n",
       "    <tr>\n",
       "      <th>1</th>\n",
       "      <td>763</td>\n",
       "      <td>{\"en\": \"Boeing 767-300\", \"ru\": \"Боинг 767-300\"}</td>\n",
       "      <td>7900</td>\n",
       "    </tr>\n",
       "    <tr>\n",
       "      <th>2</th>\n",
       "      <td>SU9</td>\n",
       "      <td>{\"en\": \"Sukhoi Superjet-100\", \"ru\": \"Сухой Суп...</td>\n",
       "      <td>3000</td>\n",
       "    </tr>\n",
       "    <tr>\n",
       "      <th>3</th>\n",
       "      <td>320</td>\n",
       "      <td>{\"en\": \"Airbus A320-200\", \"ru\": \"Аэробус A320-...</td>\n",
       "      <td>5700</td>\n",
       "    </tr>\n",
       "    <tr>\n",
       "      <th>4</th>\n",
       "      <td>321</td>\n",
       "      <td>{\"en\": \"Airbus A321-200\", \"ru\": \"Аэробус A321-...</td>\n",
       "      <td>5600</td>\n",
       "    </tr>\n",
       "  </tbody>\n",
       "</table>\n",
       "</div>"
      ],
      "text/plain": [
       "  aircraft_code                                              model  range\n",
       "0           773    {\"en\": \"Boeing 777-300\", \"ru\": \"Боинг 777-300\"}  11100\n",
       "1           763    {\"en\": \"Boeing 767-300\", \"ru\": \"Боинг 767-300\"}   7900\n",
       "2           SU9  {\"en\": \"Sukhoi Superjet-100\", \"ru\": \"Сухой Суп...   3000\n",
       "3           320  {\"en\": \"Airbus A320-200\", \"ru\": \"Аэробус A320-...   5700\n",
       "4           321  {\"en\": \"Airbus A321-200\", \"ru\": \"Аэробус A321-...   5600"
      ]
     },
     "execution_count": 4,
     "metadata": {},
     "output_type": "execute_result"
    }
   ],
   "source": [
    "aircrafts_data.head()"
   ]
  },
  {
   "cell_type": "markdown",
   "metadata": {},
   "source": [
    "#### AIRPORTS"
   ]
  },
  {
   "cell_type": "code",
   "execution_count": 5,
   "metadata": {},
   "outputs": [
    {
     "name": "stdout",
     "output_type": "stream",
     "text": [
      "<class 'pandas.core.frame.DataFrame'>\n",
      "RangeIndex: 104 entries, 0 to 103\n",
      "Data columns (total 5 columns):\n",
      " #   Column        Non-Null Count  Dtype \n",
      "---  ------        --------------  ----- \n",
      " 0   airport_code  104 non-null    object\n",
      " 1   airport_name  104 non-null    object\n",
      " 2   city          104 non-null    object\n",
      " 3   coordinates   104 non-null    object\n",
      " 4   timezone      104 non-null    object\n",
      "dtypes: object(5)\n",
      "memory usage: 4.2+ KB\n"
     ]
    }
   ],
   "source": [
    "airports_data.info()"
   ]
  },
  {
   "cell_type": "code",
   "execution_count": 6,
   "metadata": {},
   "outputs": [
    {
     "data": {
      "text/html": [
       "<div>\n",
       "<style scoped>\n",
       "    .dataframe tbody tr th:only-of-type {\n",
       "        vertical-align: middle;\n",
       "    }\n",
       "\n",
       "    .dataframe tbody tr th {\n",
       "        vertical-align: top;\n",
       "    }\n",
       "\n",
       "    .dataframe thead th {\n",
       "        text-align: right;\n",
       "    }\n",
       "</style>\n",
       "<table border=\"1\" class=\"dataframe\">\n",
       "  <thead>\n",
       "    <tr style=\"text-align: right;\">\n",
       "      <th></th>\n",
       "      <th>airport_code</th>\n",
       "      <th>airport_name</th>\n",
       "      <th>city</th>\n",
       "      <th>coordinates</th>\n",
       "      <th>timezone</th>\n",
       "    </tr>\n",
       "  </thead>\n",
       "  <tbody>\n",
       "    <tr>\n",
       "      <th>0</th>\n",
       "      <td>YKS</td>\n",
       "      <td>{\"en\": \"Yakutsk Airport\", \"ru\": \"Якутск\"}</td>\n",
       "      <td>{\"en\": \"Yakutsk\", \"ru\": \"Якутск\"}</td>\n",
       "      <td>(129.77099609375,62.0932998657226562)</td>\n",
       "      <td>Asia/Yakutsk</td>\n",
       "    </tr>\n",
       "    <tr>\n",
       "      <th>1</th>\n",
       "      <td>MJZ</td>\n",
       "      <td>{\"en\": \"Mirny Airport\", \"ru\": \"Мирный\"}</td>\n",
       "      <td>{\"en\": \"Mirnyj\", \"ru\": \"Мирный\"}</td>\n",
       "      <td>(114.03900146484375,62.534698486328125)</td>\n",
       "      <td>Asia/Yakutsk</td>\n",
       "    </tr>\n",
       "    <tr>\n",
       "      <th>2</th>\n",
       "      <td>KHV</td>\n",
       "      <td>{\"en\": \"Khabarovsk-Novy Airport\", \"ru\": \"Хабар...</td>\n",
       "      <td>{\"en\": \"Khabarovsk\", \"ru\": \"Хабаровск\"}</td>\n",
       "      <td>(135.18800354004,48.5279998779300001)</td>\n",
       "      <td>Asia/Vladivostok</td>\n",
       "    </tr>\n",
       "    <tr>\n",
       "      <th>3</th>\n",
       "      <td>PKC</td>\n",
       "      <td>{\"en\": \"Yelizovo Airport\", \"ru\": \"Елизово\"}</td>\n",
       "      <td>{\"en\": \"Petropavlovsk\", \"ru\": \"Петропавловск-К...</td>\n",
       "      <td>(158.453994750976562,53.1679000854492188)</td>\n",
       "      <td>Asia/Kamchatka</td>\n",
       "    </tr>\n",
       "    <tr>\n",
       "      <th>4</th>\n",
       "      <td>UUS</td>\n",
       "      <td>{\"en\": \"Yuzhno-Sakhalinsk Airport\", \"ru\": \"Хом...</td>\n",
       "      <td>{\"en\": \"Yuzhno-Sakhalinsk\", \"ru\": \"Южно-Сахали...</td>\n",
       "      <td>(142.718002319335938,46.8886985778808594)</td>\n",
       "      <td>Asia/Sakhalin</td>\n",
       "    </tr>\n",
       "  </tbody>\n",
       "</table>\n",
       "</div>"
      ],
      "text/plain": [
       "  airport_code                                       airport_name  \\\n",
       "0          YKS          {\"en\": \"Yakutsk Airport\", \"ru\": \"Якутск\"}   \n",
       "1          MJZ            {\"en\": \"Mirny Airport\", \"ru\": \"Мирный\"}   \n",
       "2          KHV  {\"en\": \"Khabarovsk-Novy Airport\", \"ru\": \"Хабар...   \n",
       "3          PKC        {\"en\": \"Yelizovo Airport\", \"ru\": \"Елизово\"}   \n",
       "4          UUS  {\"en\": \"Yuzhno-Sakhalinsk Airport\", \"ru\": \"Хом...   \n",
       "\n",
       "                                                city  \\\n",
       "0                  {\"en\": \"Yakutsk\", \"ru\": \"Якутск\"}   \n",
       "1                   {\"en\": \"Mirnyj\", \"ru\": \"Мирный\"}   \n",
       "2            {\"en\": \"Khabarovsk\", \"ru\": \"Хабаровск\"}   \n",
       "3  {\"en\": \"Petropavlovsk\", \"ru\": \"Петропавловск-К...   \n",
       "4  {\"en\": \"Yuzhno-Sakhalinsk\", \"ru\": \"Южно-Сахали...   \n",
       "\n",
       "                                 coordinates          timezone  \n",
       "0      (129.77099609375,62.0932998657226562)      Asia/Yakutsk  \n",
       "1    (114.03900146484375,62.534698486328125)      Asia/Yakutsk  \n",
       "2      (135.18800354004,48.5279998779300001)  Asia/Vladivostok  \n",
       "3  (158.453994750976562,53.1679000854492188)    Asia/Kamchatka  \n",
       "4  (142.718002319335938,46.8886985778808594)     Asia/Sakhalin  "
      ]
     },
     "execution_count": 6,
     "metadata": {},
     "output_type": "execute_result"
    }
   ],
   "source": [
    "airports_data.head()"
   ]
  },
  {
   "cell_type": "markdown",
   "metadata": {},
   "source": [
    "#### BOARDING PASSES"
   ]
  },
  {
   "cell_type": "code",
   "execution_count": 7,
   "metadata": {},
   "outputs": [
    {
     "name": "stdout",
     "output_type": "stream",
     "text": [
      "<class 'pandas.core.frame.DataFrame'>\n",
      "RangeIndex: 579686 entries, 0 to 579685\n",
      "Data columns (total 4 columns):\n",
      " #   Column       Non-Null Count   Dtype \n",
      "---  ------       --------------   ----- \n",
      " 0   ticket_no    579686 non-null  int64 \n",
      " 1   flight_id    579686 non-null  int64 \n",
      " 2   boarding_no  579686 non-null  int64 \n",
      " 3   seat_no      579686 non-null  object\n",
      "dtypes: int64(3), object(1)\n",
      "memory usage: 17.7+ MB\n"
     ]
    }
   ],
   "source": [
    "boarding_passes.info()"
   ]
  },
  {
   "cell_type": "code",
   "execution_count": 8,
   "metadata": {},
   "outputs": [
    {
     "data": {
      "text/html": [
       "<div>\n",
       "<style scoped>\n",
       "    .dataframe tbody tr th:only-of-type {\n",
       "        vertical-align: middle;\n",
       "    }\n",
       "\n",
       "    .dataframe tbody tr th {\n",
       "        vertical-align: top;\n",
       "    }\n",
       "\n",
       "    .dataframe thead th {\n",
       "        text-align: right;\n",
       "    }\n",
       "</style>\n",
       "<table border=\"1\" class=\"dataframe\">\n",
       "  <thead>\n",
       "    <tr style=\"text-align: right;\">\n",
       "      <th></th>\n",
       "      <th>ticket_no</th>\n",
       "      <th>flight_id</th>\n",
       "      <th>boarding_no</th>\n",
       "      <th>seat_no</th>\n",
       "    </tr>\n",
       "  </thead>\n",
       "  <tbody>\n",
       "    <tr>\n",
       "      <th>0</th>\n",
       "      <td>5435212351</td>\n",
       "      <td>30625</td>\n",
       "      <td>1</td>\n",
       "      <td>2D</td>\n",
       "    </tr>\n",
       "    <tr>\n",
       "      <th>1</th>\n",
       "      <td>5435212386</td>\n",
       "      <td>30625</td>\n",
       "      <td>2</td>\n",
       "      <td>3G</td>\n",
       "    </tr>\n",
       "    <tr>\n",
       "      <th>2</th>\n",
       "      <td>5435212381</td>\n",
       "      <td>30625</td>\n",
       "      <td>3</td>\n",
       "      <td>4H</td>\n",
       "    </tr>\n",
       "    <tr>\n",
       "      <th>3</th>\n",
       "      <td>5432211370</td>\n",
       "      <td>30625</td>\n",
       "      <td>4</td>\n",
       "      <td>5D</td>\n",
       "    </tr>\n",
       "    <tr>\n",
       "      <th>4</th>\n",
       "      <td>5435212357</td>\n",
       "      <td>30625</td>\n",
       "      <td>5</td>\n",
       "      <td>11A</td>\n",
       "    </tr>\n",
       "  </tbody>\n",
       "</table>\n",
       "</div>"
      ],
      "text/plain": [
       "    ticket_no  flight_id  boarding_no seat_no\n",
       "0  5435212351      30625            1      2D\n",
       "1  5435212386      30625            2      3G\n",
       "2  5435212381      30625            3      4H\n",
       "3  5432211370      30625            4      5D\n",
       "4  5435212357      30625            5     11A"
      ]
     },
     "execution_count": 8,
     "metadata": {},
     "output_type": "execute_result"
    }
   ],
   "source": [
    "boarding_passes.head()"
   ]
  },
  {
   "cell_type": "markdown",
   "metadata": {},
   "source": [
    "#### BOOKING"
   ]
  },
  {
   "cell_type": "code",
   "execution_count": 9,
   "metadata": {},
   "outputs": [
    {
     "name": "stdout",
     "output_type": "stream",
     "text": [
      "<class 'pandas.core.frame.DataFrame'>\n",
      "RangeIndex: 262788 entries, 0 to 262787\n",
      "Data columns (total 3 columns):\n",
      " #   Column        Non-Null Count   Dtype \n",
      "---  ------        --------------   ----- \n",
      " 0   book_ref      262788 non-null  object\n",
      " 1   book_date     262788 non-null  object\n",
      " 2   total_amount  262788 non-null  int64 \n",
      "dtypes: int64(1), object(2)\n",
      "memory usage: 6.0+ MB\n"
     ]
    }
   ],
   "source": [
    "bookings.info()"
   ]
  },
  {
   "cell_type": "code",
   "execution_count": 10,
   "metadata": {},
   "outputs": [
    {
     "data": {
      "text/html": [
       "<div>\n",
       "<style scoped>\n",
       "    .dataframe tbody tr th:only-of-type {\n",
       "        vertical-align: middle;\n",
       "    }\n",
       "\n",
       "    .dataframe tbody tr th {\n",
       "        vertical-align: top;\n",
       "    }\n",
       "\n",
       "    .dataframe thead th {\n",
       "        text-align: right;\n",
       "    }\n",
       "</style>\n",
       "<table border=\"1\" class=\"dataframe\">\n",
       "  <thead>\n",
       "    <tr style=\"text-align: right;\">\n",
       "      <th></th>\n",
       "      <th>book_ref</th>\n",
       "      <th>book_date</th>\n",
       "      <th>total_amount</th>\n",
       "    </tr>\n",
       "  </thead>\n",
       "  <tbody>\n",
       "    <tr>\n",
       "      <th>0</th>\n",
       "      <td>00000F</td>\n",
       "      <td>2017-07-05 03:12:00+03</td>\n",
       "      <td>265700</td>\n",
       "    </tr>\n",
       "    <tr>\n",
       "      <th>1</th>\n",
       "      <td>000012</td>\n",
       "      <td>2017-07-14 09:02:00+03</td>\n",
       "      <td>37900</td>\n",
       "    </tr>\n",
       "    <tr>\n",
       "      <th>2</th>\n",
       "      <td>000068</td>\n",
       "      <td>2017-08-15 14:27:00+03</td>\n",
       "      <td>18100</td>\n",
       "    </tr>\n",
       "    <tr>\n",
       "      <th>3</th>\n",
       "      <td>000181</td>\n",
       "      <td>2017-08-10 13:28:00+03</td>\n",
       "      <td>131800</td>\n",
       "    </tr>\n",
       "    <tr>\n",
       "      <th>4</th>\n",
       "      <td>0002D8</td>\n",
       "      <td>2017-08-07 21:40:00+03</td>\n",
       "      <td>23600</td>\n",
       "    </tr>\n",
       "  </tbody>\n",
       "</table>\n",
       "</div>"
      ],
      "text/plain": [
       "  book_ref               book_date  total_amount\n",
       "0   00000F  2017-07-05 03:12:00+03        265700\n",
       "1   000012  2017-07-14 09:02:00+03         37900\n",
       "2   000068  2017-08-15 14:27:00+03         18100\n",
       "3   000181  2017-08-10 13:28:00+03        131800\n",
       "4   0002D8  2017-08-07 21:40:00+03         23600"
      ]
     },
     "execution_count": 10,
     "metadata": {},
     "output_type": "execute_result"
    }
   ],
   "source": [
    "bookings.head()"
   ]
  },
  {
   "cell_type": "markdown",
   "metadata": {},
   "source": [
    "#### FLIGHTS"
   ]
  },
  {
   "cell_type": "code",
   "execution_count": 11,
   "metadata": {},
   "outputs": [
    {
     "name": "stdout",
     "output_type": "stream",
     "text": [
      "<class 'pandas.core.frame.DataFrame'>\n",
      "RangeIndex: 33121 entries, 0 to 33120\n",
      "Data columns (total 10 columns):\n",
      " #   Column               Non-Null Count  Dtype \n",
      "---  ------               --------------  ----- \n",
      " 0   flight_id            33121 non-null  int64 \n",
      " 1   flight_no            33121 non-null  object\n",
      " 2   scheduled_departure  33121 non-null  object\n",
      " 3   scheduled_arrival    33121 non-null  object\n",
      " 4   departure_airport    33121 non-null  object\n",
      " 5   arrival_airport      33121 non-null  object\n",
      " 6   status               33121 non-null  object\n",
      " 7   aircraft_code        33121 non-null  object\n",
      " 8   actual_departure     33121 non-null  object\n",
      " 9   actual_arrival       33121 non-null  object\n",
      "dtypes: int64(1), object(9)\n",
      "memory usage: 2.5+ MB\n"
     ]
    }
   ],
   "source": [
    "flights.info()"
   ]
  },
  {
   "cell_type": "code",
   "execution_count": 12,
   "metadata": {},
   "outputs": [
    {
     "data": {
      "text/html": [
       "<div>\n",
       "<style scoped>\n",
       "    .dataframe tbody tr th:only-of-type {\n",
       "        vertical-align: middle;\n",
       "    }\n",
       "\n",
       "    .dataframe tbody tr th {\n",
       "        vertical-align: top;\n",
       "    }\n",
       "\n",
       "    .dataframe thead th {\n",
       "        text-align: right;\n",
       "    }\n",
       "</style>\n",
       "<table border=\"1\" class=\"dataframe\">\n",
       "  <thead>\n",
       "    <tr style=\"text-align: right;\">\n",
       "      <th></th>\n",
       "      <th>flight_id</th>\n",
       "      <th>flight_no</th>\n",
       "      <th>scheduled_departure</th>\n",
       "      <th>scheduled_arrival</th>\n",
       "      <th>departure_airport</th>\n",
       "      <th>arrival_airport</th>\n",
       "      <th>status</th>\n",
       "      <th>aircraft_code</th>\n",
       "      <th>actual_departure</th>\n",
       "      <th>actual_arrival</th>\n",
       "    </tr>\n",
       "  </thead>\n",
       "  <tbody>\n",
       "    <tr>\n",
       "      <th>0</th>\n",
       "      <td>1185</td>\n",
       "      <td>PG0134</td>\n",
       "      <td>2017-09-10 09:50:00+03</td>\n",
       "      <td>2017-09-10 14:55:00+03</td>\n",
       "      <td>DME</td>\n",
       "      <td>BTK</td>\n",
       "      <td>Scheduled</td>\n",
       "      <td>319</td>\n",
       "      <td>\\N</td>\n",
       "      <td>\\N</td>\n",
       "    </tr>\n",
       "    <tr>\n",
       "      <th>1</th>\n",
       "      <td>3979</td>\n",
       "      <td>PG0052</td>\n",
       "      <td>2017-08-25 14:50:00+03</td>\n",
       "      <td>2017-08-25 17:35:00+03</td>\n",
       "      <td>VKO</td>\n",
       "      <td>HMA</td>\n",
       "      <td>Scheduled</td>\n",
       "      <td>CR2</td>\n",
       "      <td>\\N</td>\n",
       "      <td>\\N</td>\n",
       "    </tr>\n",
       "    <tr>\n",
       "      <th>2</th>\n",
       "      <td>4739</td>\n",
       "      <td>PG0561</td>\n",
       "      <td>2017-09-05 12:30:00+03</td>\n",
       "      <td>2017-09-05 14:15:00+03</td>\n",
       "      <td>VKO</td>\n",
       "      <td>AER</td>\n",
       "      <td>Scheduled</td>\n",
       "      <td>763</td>\n",
       "      <td>\\N</td>\n",
       "      <td>\\N</td>\n",
       "    </tr>\n",
       "    <tr>\n",
       "      <th>3</th>\n",
       "      <td>5502</td>\n",
       "      <td>PG0529</td>\n",
       "      <td>2017-09-12 09:50:00+03</td>\n",
       "      <td>2017-09-12 11:20:00+03</td>\n",
       "      <td>SVO</td>\n",
       "      <td>UFA</td>\n",
       "      <td>Scheduled</td>\n",
       "      <td>763</td>\n",
       "      <td>\\N</td>\n",
       "      <td>\\N</td>\n",
       "    </tr>\n",
       "    <tr>\n",
       "      <th>4</th>\n",
       "      <td>6938</td>\n",
       "      <td>PG0461</td>\n",
       "      <td>2017-09-04 12:25:00+03</td>\n",
       "      <td>2017-09-04 13:20:00+03</td>\n",
       "      <td>SVO</td>\n",
       "      <td>ULV</td>\n",
       "      <td>Scheduled</td>\n",
       "      <td>SU9</td>\n",
       "      <td>\\N</td>\n",
       "      <td>\\N</td>\n",
       "    </tr>\n",
       "  </tbody>\n",
       "</table>\n",
       "</div>"
      ],
      "text/plain": [
       "   flight_id flight_no     scheduled_departure       scheduled_arrival  \\\n",
       "0       1185    PG0134  2017-09-10 09:50:00+03  2017-09-10 14:55:00+03   \n",
       "1       3979    PG0052  2017-08-25 14:50:00+03  2017-08-25 17:35:00+03   \n",
       "2       4739    PG0561  2017-09-05 12:30:00+03  2017-09-05 14:15:00+03   \n",
       "3       5502    PG0529  2017-09-12 09:50:00+03  2017-09-12 11:20:00+03   \n",
       "4       6938    PG0461  2017-09-04 12:25:00+03  2017-09-04 13:20:00+03   \n",
       "\n",
       "  departure_airport arrival_airport     status aircraft_code actual_departure  \\\n",
       "0               DME             BTK  Scheduled           319               \\N   \n",
       "1               VKO             HMA  Scheduled           CR2               \\N   \n",
       "2               VKO             AER  Scheduled           763               \\N   \n",
       "3               SVO             UFA  Scheduled           763               \\N   \n",
       "4               SVO             ULV  Scheduled           SU9               \\N   \n",
       "\n",
       "  actual_arrival  \n",
       "0             \\N  \n",
       "1             \\N  \n",
       "2             \\N  \n",
       "3             \\N  \n",
       "4             \\N  "
      ]
     },
     "execution_count": 12,
     "metadata": {},
     "output_type": "execute_result"
    }
   ],
   "source": [
    "flights.head()"
   ]
  },
  {
   "cell_type": "markdown",
   "metadata": {},
   "source": [
    "#### SEATS"
   ]
  },
  {
   "cell_type": "code",
   "execution_count": 13,
   "metadata": {},
   "outputs": [
    {
     "name": "stdout",
     "output_type": "stream",
     "text": [
      "<class 'pandas.core.frame.DataFrame'>\n",
      "RangeIndex: 1339 entries, 0 to 1338\n",
      "Data columns (total 3 columns):\n",
      " #   Column           Non-Null Count  Dtype \n",
      "---  ------           --------------  ----- \n",
      " 0   aircraft_code    1339 non-null   object\n",
      " 1   seat_no          1339 non-null   object\n",
      " 2   fare_conditions  1339 non-null   object\n",
      "dtypes: object(3)\n",
      "memory usage: 31.5+ KB\n"
     ]
    }
   ],
   "source": [
    "seats.info()"
   ]
  },
  {
   "cell_type": "code",
   "execution_count": 14,
   "metadata": {},
   "outputs": [
    {
     "data": {
      "text/html": [
       "<div>\n",
       "<style scoped>\n",
       "    .dataframe tbody tr th:only-of-type {\n",
       "        vertical-align: middle;\n",
       "    }\n",
       "\n",
       "    .dataframe tbody tr th {\n",
       "        vertical-align: top;\n",
       "    }\n",
       "\n",
       "    .dataframe thead th {\n",
       "        text-align: right;\n",
       "    }\n",
       "</style>\n",
       "<table border=\"1\" class=\"dataframe\">\n",
       "  <thead>\n",
       "    <tr style=\"text-align: right;\">\n",
       "      <th></th>\n",
       "      <th>aircraft_code</th>\n",
       "      <th>seat_no</th>\n",
       "      <th>fare_conditions</th>\n",
       "    </tr>\n",
       "  </thead>\n",
       "  <tbody>\n",
       "    <tr>\n",
       "      <th>0</th>\n",
       "      <td>319</td>\n",
       "      <td>2A</td>\n",
       "      <td>Business</td>\n",
       "    </tr>\n",
       "    <tr>\n",
       "      <th>1</th>\n",
       "      <td>319</td>\n",
       "      <td>2C</td>\n",
       "      <td>Business</td>\n",
       "    </tr>\n",
       "    <tr>\n",
       "      <th>2</th>\n",
       "      <td>319</td>\n",
       "      <td>2D</td>\n",
       "      <td>Business</td>\n",
       "    </tr>\n",
       "    <tr>\n",
       "      <th>3</th>\n",
       "      <td>319</td>\n",
       "      <td>2F</td>\n",
       "      <td>Business</td>\n",
       "    </tr>\n",
       "    <tr>\n",
       "      <th>4</th>\n",
       "      <td>319</td>\n",
       "      <td>3A</td>\n",
       "      <td>Business</td>\n",
       "    </tr>\n",
       "  </tbody>\n",
       "</table>\n",
       "</div>"
      ],
      "text/plain": [
       "  aircraft_code seat_no fare_conditions\n",
       "0           319      2A        Business\n",
       "1           319      2C        Business\n",
       "2           319      2D        Business\n",
       "3           319      2F        Business\n",
       "4           319      3A        Business"
      ]
     },
     "execution_count": 14,
     "metadata": {},
     "output_type": "execute_result"
    }
   ],
   "source": [
    "seats.head()"
   ]
  },
  {
   "cell_type": "markdown",
   "metadata": {},
   "source": [
    "#### TICKET FLIGHTS"
   ]
  },
  {
   "cell_type": "code",
   "execution_count": 15,
   "metadata": {},
   "outputs": [
    {
     "name": "stdout",
     "output_type": "stream",
     "text": [
      "<class 'pandas.core.frame.DataFrame'>\n",
      "RangeIndex: 1045726 entries, 0 to 1045725\n",
      "Data columns (total 4 columns):\n",
      " #   Column           Non-Null Count    Dtype \n",
      "---  ------           --------------    ----- \n",
      " 0   ticket_no        1045726 non-null  int64 \n",
      " 1   flight_id        1045726 non-null  int64 \n",
      " 2   fare_conditions  1045726 non-null  object\n",
      " 3   amount           1045726 non-null  int64 \n",
      "dtypes: int64(3), object(1)\n",
      "memory usage: 31.9+ MB\n"
     ]
    }
   ],
   "source": [
    "ticket_flights.info()"
   ]
  },
  {
   "cell_type": "code",
   "execution_count": 16,
   "metadata": {},
   "outputs": [
    {
     "data": {
      "text/html": [
       "<div>\n",
       "<style scoped>\n",
       "    .dataframe tbody tr th:only-of-type {\n",
       "        vertical-align: middle;\n",
       "    }\n",
       "\n",
       "    .dataframe tbody tr th {\n",
       "        vertical-align: top;\n",
       "    }\n",
       "\n",
       "    .dataframe thead th {\n",
       "        text-align: right;\n",
       "    }\n",
       "</style>\n",
       "<table border=\"1\" class=\"dataframe\">\n",
       "  <thead>\n",
       "    <tr style=\"text-align: right;\">\n",
       "      <th></th>\n",
       "      <th>ticket_no</th>\n",
       "      <th>flight_id</th>\n",
       "      <th>fare_conditions</th>\n",
       "      <th>amount</th>\n",
       "    </tr>\n",
       "  </thead>\n",
       "  <tbody>\n",
       "    <tr>\n",
       "      <th>0</th>\n",
       "      <td>5432159776</td>\n",
       "      <td>30625</td>\n",
       "      <td>Business</td>\n",
       "      <td>42100</td>\n",
       "    </tr>\n",
       "    <tr>\n",
       "      <th>1</th>\n",
       "      <td>5435212351</td>\n",
       "      <td>30625</td>\n",
       "      <td>Business</td>\n",
       "      <td>42100</td>\n",
       "    </tr>\n",
       "    <tr>\n",
       "      <th>2</th>\n",
       "      <td>5435212386</td>\n",
       "      <td>30625</td>\n",
       "      <td>Business</td>\n",
       "      <td>42100</td>\n",
       "    </tr>\n",
       "    <tr>\n",
       "      <th>3</th>\n",
       "      <td>5435212381</td>\n",
       "      <td>30625</td>\n",
       "      <td>Business</td>\n",
       "      <td>42100</td>\n",
       "    </tr>\n",
       "    <tr>\n",
       "      <th>4</th>\n",
       "      <td>5432211370</td>\n",
       "      <td>30625</td>\n",
       "      <td>Business</td>\n",
       "      <td>42100</td>\n",
       "    </tr>\n",
       "  </tbody>\n",
       "</table>\n",
       "</div>"
      ],
      "text/plain": [
       "    ticket_no  flight_id fare_conditions  amount\n",
       "0  5432159776      30625        Business   42100\n",
       "1  5435212351      30625        Business   42100\n",
       "2  5435212386      30625        Business   42100\n",
       "3  5435212381      30625        Business   42100\n",
       "4  5432211370      30625        Business   42100"
      ]
     },
     "execution_count": 16,
     "metadata": {},
     "output_type": "execute_result"
    }
   ],
   "source": [
    "ticket_flights.head()"
   ]
  },
  {
   "cell_type": "markdown",
   "metadata": {},
   "source": [
    "#### TICKETS"
   ]
  },
  {
   "cell_type": "code",
   "execution_count": 17,
   "metadata": {},
   "outputs": [
    {
     "name": "stdout",
     "output_type": "stream",
     "text": [
      "<class 'pandas.core.frame.DataFrame'>\n",
      "RangeIndex: 366733 entries, 0 to 366732\n",
      "Data columns (total 3 columns):\n",
      " #   Column        Non-Null Count   Dtype \n",
      "---  ------        --------------   ----- \n",
      " 0   ticket_no     366733 non-null  int64 \n",
      " 1   book_ref      366733 non-null  object\n",
      " 2   passenger_id  366733 non-null  object\n",
      "dtypes: int64(1), object(2)\n",
      "memory usage: 8.4+ MB\n"
     ]
    }
   ],
   "source": [
    "tickets.info()"
   ]
  },
  {
   "cell_type": "code",
   "execution_count": 18,
   "metadata": {},
   "outputs": [
    {
     "data": {
      "text/html": [
       "<div>\n",
       "<style scoped>\n",
       "    .dataframe tbody tr th:only-of-type {\n",
       "        vertical-align: middle;\n",
       "    }\n",
       "\n",
       "    .dataframe tbody tr th {\n",
       "        vertical-align: top;\n",
       "    }\n",
       "\n",
       "    .dataframe thead th {\n",
       "        text-align: right;\n",
       "    }\n",
       "</style>\n",
       "<table border=\"1\" class=\"dataframe\">\n",
       "  <thead>\n",
       "    <tr style=\"text-align: right;\">\n",
       "      <th></th>\n",
       "      <th>ticket_no</th>\n",
       "      <th>book_ref</th>\n",
       "      <th>passenger_id</th>\n",
       "    </tr>\n",
       "  </thead>\n",
       "  <tbody>\n",
       "    <tr>\n",
       "      <th>0</th>\n",
       "      <td>5432000987</td>\n",
       "      <td>06B046</td>\n",
       "      <td>8149 604011</td>\n",
       "    </tr>\n",
       "    <tr>\n",
       "      <th>1</th>\n",
       "      <td>5432000988</td>\n",
       "      <td>06B046</td>\n",
       "      <td>8499 420203</td>\n",
       "    </tr>\n",
       "    <tr>\n",
       "      <th>2</th>\n",
       "      <td>5432000989</td>\n",
       "      <td>E170C3</td>\n",
       "      <td>1011 752484</td>\n",
       "    </tr>\n",
       "    <tr>\n",
       "      <th>3</th>\n",
       "      <td>5432000990</td>\n",
       "      <td>E170C3</td>\n",
       "      <td>4849 400049</td>\n",
       "    </tr>\n",
       "    <tr>\n",
       "      <th>4</th>\n",
       "      <td>5432000991</td>\n",
       "      <td>F313DD</td>\n",
       "      <td>6615 976589</td>\n",
       "    </tr>\n",
       "  </tbody>\n",
       "</table>\n",
       "</div>"
      ],
      "text/plain": [
       "    ticket_no book_ref passenger_id\n",
       "0  5432000987   06B046  8149 604011\n",
       "1  5432000988   06B046  8499 420203\n",
       "2  5432000989   E170C3  1011 752484\n",
       "3  5432000990   E170C3  4849 400049\n",
       "4  5432000991   F313DD  6615 976589"
      ]
     },
     "execution_count": 18,
     "metadata": {},
     "output_type": "execute_result"
    }
   ],
   "source": [
    "tickets.head()"
   ]
  }
 ],
 "metadata": {
  "kernelspec": {
   "display_name": "base",
   "language": "python",
   "name": "python3"
  },
  "language_info": {
   "codemirror_mode": {
    "name": "ipython",
    "version": 3
   },
   "file_extension": ".py",
   "mimetype": "text/x-python",
   "name": "python",
   "nbconvert_exporter": "python",
   "pygments_lexer": "ipython3",
   "version": "3.9.12"
  }
 },
 "nbformat": 4,
 "nbformat_minor": 2
}
