{
 "cells": [
  {
   "cell_type": "code",
   "execution_count": 1,
   "metadata": {},
   "outputs": [],
   "source": [
    "import sqlite3\n",
    "import pandas as pd\n",
    "import os\n",
    "from tabulate import tabulate # para ver mejor las filas y columnas cuando hagamos el head de cada tabla.\n"
   ]
  },
  {
   "cell_type": "code",
   "execution_count": 3,
   "metadata": {},
   "outputs": [],
   "source": [
    "# Ruta al archivo .sqlite\n",
    "ruta_db = 'travel.sqlite'"
   ]
  },
  {
   "cell_type": "code",
   "execution_count": 4,
   "metadata": {},
   "outputs": [],
   "source": [
    "# Conectar a la base de datos\n",
    "conexion = sqlite3.connect(ruta_db)\n"
   ]
  },
  {
   "cell_type": "code",
   "execution_count": 5,
   "metadata": {},
   "outputs": [],
   "source": [
    "# Obtener los nombres de las tablas en la base de datos\n",
    "cursor = conexion.cursor()\n",
    "cursor.execute(\"SELECT name FROM sqlite_master WHERE type='table';\")\n",
    "tablas = cursor.fetchall()"
   ]
  },
  {
   "cell_type": "code",
   "execution_count": 6,
   "metadata": {},
   "outputs": [],
   "source": [
    "# Convertir la lista de tablas en un formato legible\n",
    "nombres_tablas = [tabla[0] for tabla in tablas]\n"
   ]
  },
  {
   "cell_type": "code",
   "execution_count": 7,
   "metadata": {},
   "outputs": [
    {
     "name": "stdout",
     "output_type": "stream",
     "text": [
      "['aircrafts_data', 'airports_data', 'boarding_passes', 'bookings', 'flights', 'seats', 'ticket_flights', 'tickets']\n"
     ]
    }
   ],
   "source": [
    "print(nombres_tablas)"
   ]
  },
  {
   "cell_type": "code",
   "execution_count": 8,
   "metadata": {},
   "outputs": [],
   "source": [
    "aircrafts_data = pd.read_sql_query(f\"SELECT * FROM aircrafts_data\", conexion)\n",
    "airports_data = pd.read_sql_query(f\"SELECT * FROM airports_data\", conexion)\n",
    "boarding_passes = pd.read_sql_query(f\"SELECT * FROM boarding_passes\", conexion)\n",
    "bookings = pd.read_sql_query(f\"SELECT * FROM bookings\", conexion)\n",
    "flights = pd.read_sql_query(f\"SELECT * FROM flights\", conexion)\n",
    "seats = pd.read_sql_query(f\"SELECT * FROM seats\", conexion)\n",
    "ticket_flights = pd.read_sql_query(f\"SELECT * FROM ticket_flights\", conexion)\n",
    "tickets = pd.read_sql_query(f\"SELECT * FROM tickets\", conexion)"
   ]
  },
  {
   "cell_type": "code",
   "execution_count": 9,
   "metadata": {},
   "outputs": [],
   "source": [
    "aircrafts_data.to_csv(\"aircrafts_data.csv\", index=False)\n",
    "airports_data.to_csv(\"airports_data.csv\", index=False)\n",
    "boarding_passes.to_csv(\"boarding_passes.csv\", index=False)\n",
    "bookings.to_csv(\"bookings.csv\", index=False)\n",
    "flights.to_csv(\"flights.csv\", index=False)\n",
    "seats.to_csv(\"seats.csv\", index=False)\n",
    "ticket_flights.to_csv(\"ticket_flights.csv\", index=False)\n",
    "tickets.to_csv(\"tickets.csv\", index=False)"
   ]
  },
  {
   "cell_type": "markdown",
   "metadata": {},
   "source": [
    "### Hasta aca tengo guardados los csv. A partir de aca, leer los archivos cvs ya que voy a borrar el .sqlite porque es muy pesado y no sube al github."
   ]
  },
  {
   "cell_type": "code",
   "execution_count": 10,
   "metadata": {},
   "outputs": [],
   "source": [
    "aircrafts_data = pd.read_csv(\"aircrafts_data.csv\")\n",
    "airports_data = pd.read_csv(\"airports_data.csv\")\n",
    "boarding_passes = pd.read_csv(\"boarding_passes.csv\")\n",
    "bookings = pd.read_csv(\"bookings.csv\")\n",
    "flights = pd.read_csv(\"flights.csv\")\n",
    "seats = pd.read_csv(\"seats.csv\")\n",
    "ticket_flights = pd.read_csv(\"ticket_flights.csv\")\n",
    "tickets = pd.read_csv(\"tickets.csv\")\n"
   ]
  }
 ],
 "metadata": {
  "kernelspec": {
   "display_name": "base",
   "language": "python",
   "name": "python3"
  },
  "language_info": {
   "codemirror_mode": {
    "name": "ipython",
    "version": 3
   },
   "file_extension": ".py",
   "mimetype": "text/x-python",
   "name": "python",
   "nbconvert_exporter": "python",
   "pygments_lexer": "ipython3",
   "version": "3.9.12"
  }
 },
 "nbformat": 4,
 "nbformat_minor": 2
}
